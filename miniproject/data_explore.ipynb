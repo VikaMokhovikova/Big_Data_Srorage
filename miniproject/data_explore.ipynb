{
 "cells": [
  {
   "cell_type": "code",
   "metadata": {
    "ExecuteTime": {
     "end_time": "2025-04-25T23:27:16.519742Z",
     "start_time": "2025-04-25T23:27:14.104480Z"
    }
   },
   "source": [
    "import pandas as pd\n",
    "\n",
    "from miniproject.preprocessing import clean_datasets\n",
    "from utils import (\n",
    "    create_dimensions_credits,\n",
    "    create_dimentions_movies,\n",
    "    create_fact_movies_table,\n",
    ")\n",
    "from preprocessing import (clean_datasets)\n"
   ],
   "outputs": [],
   "execution_count": 1
  },
  {
   "cell_type": "code",
   "metadata": {
    "ExecuteTime": {
     "end_time": "2025-04-25T23:27:16.906671Z",
     "start_time": "2025-04-25T23:27:16.548213Z"
    }
   },
   "source": [
    "data_movies_init = pd.read_csv(\"data/tmdb_5000_movies.csv\")\n",
    "data_credits_init = pd.read_csv(\"data/tmdb_5000_credits.csv\")"
   ],
   "outputs": [],
   "execution_count": 2
  },
  {
   "metadata": {
    "ExecuteTime": {
     "end_time": "2025-04-25T23:27:16.967567Z",
     "start_time": "2025-04-25T23:27:16.954685Z"
    }
   },
   "cell_type": "code",
   "source": "data_movies, data_credits = clean_datasets(data_movies_init, data_credits_init)",
   "outputs": [],
   "execution_count": 3
  },
  {
   "cell_type": "code",
   "metadata": {
    "ExecuteTime": {
     "end_time": "2025-04-25T23:27:16.992528Z",
     "start_time": "2025-04-25T23:27:16.990463Z"
    }
   },
   "source": [
    "dimention_columns = [\n",
    "    \"genres\",\n",
    "    \"keywords\",\n",
    "    \"production_companies\",\n",
    "    \"production_countries\",\n",
    "    \"spoken_languages\",\n",
    "]"
   ],
   "outputs": [],
   "execution_count": 4
  },
  {
   "cell_type": "code",
   "metadata": {
    "ExecuteTime": {
     "end_time": "2025-04-25T23:27:17.086063Z",
     "start_time": "2025-04-25T23:27:17.023378Z"
    }
   },
   "source": [
    "create_fact_movies_table(data_movies)"
   ],
   "outputs": [],
   "execution_count": 5
  },
  {
   "cell_type": "code",
   "metadata": {
    "ExecuteTime": {
     "end_time": "2025-04-25T23:27:17.961189Z",
     "start_time": "2025-04-25T23:27:17.098571Z"
    }
   },
   "source": [
    "for column in dimention_columns:\n",
    "    if column == \"production_countries\":\n",
    "        dim_id_field = \"iso_3166_1\"\n",
    "    elif column == \"spoken_languages\":\n",
    "        dim_id_field = \"iso_639_1\"\n",
    "    else:\n",
    "        dim_id_field = \"id\"\n",
    "    create_dimentions_movies(\n",
    "        df=data_movies,\n",
    "        column_name=column,\n",
    "        dim_id_field=dim_id_field,\n",
    "        db_path=\"sqlite:///tmdb_star.db\",\n",
    "    )\n",
    "    data_movies = data_movies.drop(columns=[column])"
   ],
   "outputs": [],
   "execution_count": 6
  },
  {
   "cell_type": "code",
   "metadata": {
    "ExecuteTime": {
     "end_time": "2025-04-25T23:27:20.198595Z",
     "start_time": "2025-04-25T23:27:17.972341Z"
    }
   },
   "source": [
    "create_dimensions_credits(data_credits)"
   ],
   "outputs": [
    {
     "name": "stderr",
     "output_type": "stream",
     "text": [
      "/Users/viktoria/PycharmProjects/BDS/miniproject/utils.py:168: SettingWithCopyWarning: \n",
      "A value is trying to be set on a copy of a slice from a DataFrame.\n",
      "Try using .loc[row_indexer,col_indexer] = value instead\n",
      "\n",
      "See the caveats in the documentation: https://pandas.pydata.org/pandas-docs/stable/user_guide/indexing.html#returning-a-view-versus-a-copy\n",
      "  credits_df[\"cast_parsed\"] = parse_json_column(credits_df, \"cast\")\n",
      "/Users/viktoria/PycharmProjects/BDS/miniproject/utils.py:169: SettingWithCopyWarning: \n",
      "A value is trying to be set on a copy of a slice from a DataFrame.\n",
      "Try using .loc[row_indexer,col_indexer] = value instead\n",
      "\n",
      "See the caveats in the documentation: https://pandas.pydata.org/pandas-docs/stable/user_guide/indexing.html#returning-a-view-versus-a-copy\n",
      "  credits_df[\"crew_parsed\"] = parse_json_column(credits_df, \"crew\")\n"
     ]
    }
   ],
   "execution_count": 7
  },
  {
   "metadata": {
    "ExecuteTime": {
     "end_time": "2025-04-25T23:27:20.248747Z",
     "start_time": "2025-04-25T23:27:20.246969Z"
    }
   },
   "cell_type": "code",
   "source": "",
   "outputs": [],
   "execution_count": null
  },
  {
   "metadata": {},
   "cell_type": "code",
   "outputs": [],
   "execution_count": null,
   "source": ""
  }
 ],
 "metadata": {
  "kernelspec": {
   "display_name": ".venv",
   "language": "python",
   "name": "python3"
  },
  "language_info": {
   "codemirror_mode": {
    "name": "ipython",
    "version": 3
   },
   "file_extension": ".py",
   "mimetype": "text/x-python",
   "name": "python",
   "nbconvert_exporter": "python",
   "pygments_lexer": "ipython3",
   "version": "3.13.0"
  }
 },
 "nbformat": 4,
 "nbformat_minor": 2
}
