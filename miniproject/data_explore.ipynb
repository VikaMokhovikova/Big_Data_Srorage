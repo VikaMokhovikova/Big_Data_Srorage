{
 "cells": [
  {
   "cell_type": "code",
   "metadata": {
    "ExecuteTime": {
     "end_time": "2025-04-24T21:14:13.817047Z",
     "start_time": "2025-04-24T21:14:10.062825Z"
    }
   },
   "source": [
    "import pandas as pd\n",
    "\n",
    "from utils import (\n",
    "    create_dimensions_credits,\n",
    "    create_dimentions_movies,\n",
    "    create_fact_movies_table,\n",
    ")\n"
   ],
   "outputs": [],
   "execution_count": 1
  },
  {
   "cell_type": "code",
   "metadata": {
    "ExecuteTime": {
     "end_time": "2025-04-24T21:14:16.528331Z",
     "start_time": "2025-04-24T21:14:16.149409Z"
    }
   },
   "source": [
    "data_movies = pd.read_csv(\"data/tmdb_5000_movies.csv\")\n",
    "data_credits = pd.read_csv(\"data/tmdb_5000_credits.csv\")"
   ],
   "outputs": [],
   "execution_count": 2
  },
  {
   "cell_type": "code",
   "metadata": {
    "ExecuteTime": {
     "end_time": "2025-04-24T21:14:19.989193Z",
     "start_time": "2025-04-24T21:14:19.981229Z"
    }
   },
   "source": [
    "dimention_columns = [\n",
    "    \"genres\",\n",
    "    \"keywords\",\n",
    "    \"production_companies\",\n",
    "    \"production_countries\",\n",
    "    \"spoken_languages\",\n",
    "]"
   ],
   "outputs": [],
   "execution_count": 3
  },
  {
   "cell_type": "code",
   "metadata": {
    "ExecuteTime": {
     "end_time": "2025-04-24T21:48:11.258497Z",
     "start_time": "2025-04-24T21:48:10.826034Z"
    }
   },
   "source": [
    "create_fact_movies_table(data_movies)"
   ],
   "outputs": [],
   "execution_count": 4
  },
  {
   "cell_type": "code",
   "metadata": {
    "ExecuteTime": {
     "end_time": "2025-04-24T21:48:13.847144Z",
     "start_time": "2025-04-24T21:48:12.318661Z"
    }
   },
   "source": [
    "for column in dimention_columns:\n",
    "    if column == \"production_countries\":\n",
    "        dim_id_field = \"iso_3166_1\"\n",
    "    elif column == \"spoken_languages\":\n",
    "        dim_id_field = \"iso_639_1\"\n",
    "    else:\n",
    "        dim_id_field = \"id\"\n",
    "    create_dimentions_movies(\n",
    "        df=data_movies,\n",
    "        column_name=column,\n",
    "        dim_id_field=dim_id_field,\n",
    "        db_path=\"sqlite:///tmdb_star.db\",\n",
    "    )\n",
    "    data_movies = data_movies.drop(columns=[column])"
   ],
   "outputs": [
    {
     "ename": "InvalidRequestError",
     "evalue": "Table 'dim_genres' is already defined for this MetaData instance.  Specify 'extend_existing=True' to redefine options and columns on an existing Table object.",
     "output_type": "error",
     "traceback": [
      "\u001B[0;31m---------------------------------------------------------------------------\u001B[0m",
      "\u001B[0;31mInvalidRequestError\u001B[0m                       Traceback (most recent call last)",
      "Cell \u001B[0;32mIn[5], line 8\u001B[0m\n\u001B[1;32m      6\u001B[0m \u001B[38;5;28;01melse\u001B[39;00m:\n\u001B[1;32m      7\u001B[0m     dim_id_field \u001B[38;5;241m=\u001B[39m \u001B[38;5;124m\"\u001B[39m\u001B[38;5;124mid\u001B[39m\u001B[38;5;124m\"\u001B[39m\n\u001B[0;32m----> 8\u001B[0m create_dimentions_movies(\n\u001B[1;32m      9\u001B[0m     df\u001B[38;5;241m=\u001B[39mdata_movies,\n\u001B[1;32m     10\u001B[0m     column_name\u001B[38;5;241m=\u001B[39mcolumn,\n\u001B[1;32m     11\u001B[0m     dim_id_field\u001B[38;5;241m=\u001B[39mdim_id_field,\n\u001B[1;32m     12\u001B[0m     db_path\u001B[38;5;241m=\u001B[39m\u001B[38;5;124m\"\u001B[39m\u001B[38;5;124msqlite:///tmdb_star.db\u001B[39m\u001B[38;5;124m\"\u001B[39m,\n\u001B[1;32m     13\u001B[0m )\n\u001B[1;32m     14\u001B[0m data_movies \u001B[38;5;241m=\u001B[39m data_movies\u001B[38;5;241m.\u001B[39mdrop(columns\u001B[38;5;241m=\u001B[39m[column])\n",
      "File \u001B[0;32m~/PycharmProjects/BDS/miniproject/utils.py:62\u001B[0m, in \u001B[0;36mcreate_dimentions_movies\u001B[0;34m(df, column_name, dim_id_field, db_path)\u001B[0m\n\u001B[1;32m     59\u001B[0m metadata \u001B[38;5;241m=\u001B[39m MetaData()\n\u001B[1;32m     60\u001B[0m metadata\u001B[38;5;241m.\u001B[39mreflect(bind\u001B[38;5;241m=\u001B[39mengine)\n\u001B[0;32m---> 62\u001B[0m dim_table \u001B[38;5;241m=\u001B[39m Table(\n\u001B[1;32m     63\u001B[0m     \u001B[38;5;124mf\u001B[39m\u001B[38;5;124m\"\u001B[39m\u001B[38;5;124mdim_\u001B[39m\u001B[38;5;132;01m{\u001B[39;00mcolumn_name\u001B[38;5;132;01m}\u001B[39;00m\u001B[38;5;124m\"\u001B[39m,\n\u001B[1;32m     64\u001B[0m     metadata,\n\u001B[1;32m     65\u001B[0m     Column(\u001B[38;5;124m\"\u001B[39m\u001B[38;5;124mid\u001B[39m\u001B[38;5;124m\"\u001B[39m, id_dtype, primary_key\u001B[38;5;241m=\u001B[39m\u001B[38;5;28;01mTrue\u001B[39;00m),\n\u001B[1;32m     66\u001B[0m     Column(\u001B[38;5;124m\"\u001B[39m\u001B[38;5;124mname\u001B[39m\u001B[38;5;124m\"\u001B[39m, String),\n\u001B[1;32m     67\u001B[0m )\n\u001B[1;32m     69\u001B[0m link_table \u001B[38;5;241m=\u001B[39m Table(\n\u001B[1;32m     70\u001B[0m     \u001B[38;5;124mf\u001B[39m\u001B[38;5;124m\"\u001B[39m\u001B[38;5;124mlink_\u001B[39m\u001B[38;5;132;01m{\u001B[39;00mcolumn_name\u001B[38;5;132;01m}\u001B[39;00m\u001B[38;5;124m\"\u001B[39m,\n\u001B[1;32m     71\u001B[0m     metadata,\n\u001B[0;32m   (...)\u001B[0m\n\u001B[1;32m     77\u001B[0m     ),\n\u001B[1;32m     78\u001B[0m )\n\u001B[1;32m     80\u001B[0m metadata\u001B[38;5;241m.\u001B[39mcreate_all(engine)\n",
      "File \u001B[0;32m<string>:2\u001B[0m, in \u001B[0;36m__new__\u001B[0;34m(cls, *args, **kw)\u001B[0m\n",
      "File \u001B[0;32m/opt/anaconda3/lib/python3.12/site-packages/sqlalchemy/util/deprecations.py:281\u001B[0m, in \u001B[0;36mdeprecated_params.<locals>.decorate.<locals>.warned\u001B[0;34m(fn, *args, **kwargs)\u001B[0m\n\u001B[1;32m    274\u001B[0m     \u001B[38;5;28;01mif\u001B[39;00m m \u001B[38;5;129;01min\u001B[39;00m kwargs:\n\u001B[1;32m    275\u001B[0m         _warn_with_version(\n\u001B[1;32m    276\u001B[0m             messages[m],\n\u001B[1;32m    277\u001B[0m             versions[m],\n\u001B[1;32m    278\u001B[0m             version_warnings[m],\n\u001B[1;32m    279\u001B[0m             stacklevel\u001B[38;5;241m=\u001B[39m\u001B[38;5;241m3\u001B[39m,\n\u001B[1;32m    280\u001B[0m         )\n\u001B[0;32m--> 281\u001B[0m \u001B[38;5;28;01mreturn\u001B[39;00m fn(\u001B[38;5;241m*\u001B[39margs, \u001B[38;5;241m*\u001B[39m\u001B[38;5;241m*\u001B[39mkwargs)\n",
      "File \u001B[0;32m/opt/anaconda3/lib/python3.12/site-packages/sqlalchemy/sql/schema.py:431\u001B[0m, in \u001B[0;36mTable.__new__\u001B[0;34m(cls, *args, **kw)\u001B[0m\n\u001B[1;32m    424\u001B[0m \u001B[38;5;129m@util\u001B[39m\u001B[38;5;241m.\u001B[39mdeprecated_params(\n\u001B[1;32m    425\u001B[0m     mustexist\u001B[38;5;241m=\u001B[39m(\n\u001B[1;32m    426\u001B[0m         \u001B[38;5;124m\"\u001B[39m\u001B[38;5;124m1.4\u001B[39m\u001B[38;5;124m\"\u001B[39m,\n\u001B[0;32m   (...)\u001B[0m\n\u001B[1;32m    429\u001B[0m )\n\u001B[1;32m    430\u001B[0m \u001B[38;5;28;01mdef\u001B[39;00m \u001B[38;5;21m__new__\u001B[39m(\u001B[38;5;28mcls\u001B[39m, \u001B[38;5;241m*\u001B[39margs: Any, \u001B[38;5;241m*\u001B[39m\u001B[38;5;241m*\u001B[39mkw: Any) \u001B[38;5;241m-\u001B[39m\u001B[38;5;241m>\u001B[39m Any:\n\u001B[0;32m--> 431\u001B[0m     \u001B[38;5;28;01mreturn\u001B[39;00m \u001B[38;5;28mcls\u001B[39m\u001B[38;5;241m.\u001B[39m_new(\u001B[38;5;241m*\u001B[39margs, \u001B[38;5;241m*\u001B[39m\u001B[38;5;241m*\u001B[39mkw)\n",
      "File \u001B[0;32m/opt/anaconda3/lib/python3.12/site-packages/sqlalchemy/sql/schema.py:463\u001B[0m, in \u001B[0;36mTable._new\u001B[0;34m(cls, *args, **kw)\u001B[0m\n\u001B[1;32m    461\u001B[0m \u001B[38;5;28;01mif\u001B[39;00m key \u001B[38;5;129;01min\u001B[39;00m metadata\u001B[38;5;241m.\u001B[39mtables:\n\u001B[1;32m    462\u001B[0m     \u001B[38;5;28;01mif\u001B[39;00m \u001B[38;5;129;01mnot\u001B[39;00m keep_existing \u001B[38;5;129;01mand\u001B[39;00m \u001B[38;5;129;01mnot\u001B[39;00m extend_existing \u001B[38;5;129;01mand\u001B[39;00m \u001B[38;5;28mbool\u001B[39m(args):\n\u001B[0;32m--> 463\u001B[0m         \u001B[38;5;28;01mraise\u001B[39;00m exc\u001B[38;5;241m.\u001B[39mInvalidRequestError(\n\u001B[1;32m    464\u001B[0m             \u001B[38;5;124mf\u001B[39m\u001B[38;5;124m\"\u001B[39m\u001B[38;5;124mTable \u001B[39m\u001B[38;5;124m'\u001B[39m\u001B[38;5;132;01m{\u001B[39;00mkey\u001B[38;5;132;01m}\u001B[39;00m\u001B[38;5;124m'\u001B[39m\u001B[38;5;124m is already defined for this MetaData \u001B[39m\u001B[38;5;124m\"\u001B[39m\n\u001B[1;32m    465\u001B[0m             \u001B[38;5;124m\"\u001B[39m\u001B[38;5;124minstance.  Specify \u001B[39m\u001B[38;5;124m'\u001B[39m\u001B[38;5;124mextend_existing=True\u001B[39m\u001B[38;5;124m'\u001B[39m\u001B[38;5;124m \u001B[39m\u001B[38;5;124m\"\u001B[39m\n\u001B[1;32m    466\u001B[0m             \u001B[38;5;124m\"\u001B[39m\u001B[38;5;124mto redefine \u001B[39m\u001B[38;5;124m\"\u001B[39m\n\u001B[1;32m    467\u001B[0m             \u001B[38;5;124m\"\u001B[39m\u001B[38;5;124moptions and columns on an \u001B[39m\u001B[38;5;124m\"\u001B[39m\n\u001B[1;32m    468\u001B[0m             \u001B[38;5;124m\"\u001B[39m\u001B[38;5;124mexisting Table object.\u001B[39m\u001B[38;5;124m\"\u001B[39m\n\u001B[1;32m    469\u001B[0m         )\n\u001B[1;32m    470\u001B[0m     table \u001B[38;5;241m=\u001B[39m metadata\u001B[38;5;241m.\u001B[39mtables[key]\n\u001B[1;32m    471\u001B[0m     \u001B[38;5;28;01mif\u001B[39;00m extend_existing:\n",
      "\u001B[0;31mInvalidRequestError\u001B[0m: Table 'dim_genres' is already defined for this MetaData instance.  Specify 'extend_existing=True' to redefine options and columns on an existing Table object."
     ]
    }
   ],
   "execution_count": 5
  },
  {
   "cell_type": "code",
   "metadata": {
    "ExecuteTime": {
     "end_time": "2025-04-24T21:48:24.675528Z",
     "start_time": "2025-04-24T21:48:23.288919Z"
    }
   },
   "source": [
    "create_dimensions_credits(data_credits)"
   ],
   "outputs": [
    {
     "ename": "InvalidRequestError",
     "evalue": "Table 'dim_persons' is already defined for this MetaData instance.  Specify 'extend_existing=True' to redefine options and columns on an existing Table object.",
     "output_type": "error",
     "traceback": [
      "\u001B[0;31m---------------------------------------------------------------------------\u001B[0m",
      "\u001B[0;31mInvalidRequestError\u001B[0m                       Traceback (most recent call last)",
      "Cell \u001B[0;32mIn[6], line 1\u001B[0m\n\u001B[0;32m----> 1\u001B[0m create_dimensions_credits(data_credits)\n",
      "File \u001B[0;32m~/PycharmProjects/BDS/miniproject/utils.py:214\u001B[0m, in \u001B[0;36mcreate_dimensions_credits\u001B[0;34m(credits_df, db_path)\u001B[0m\n\u001B[1;32m    209\u001B[0m persons_df \u001B[38;5;241m=\u001B[39m pd\u001B[38;5;241m.\u001B[39mDataFrame\u001B[38;5;241m.\u001B[39mfrom_dict(persons_data, orient\u001B[38;5;241m=\u001B[39m\u001B[38;5;124m\"\u001B[39m\u001B[38;5;124mindex\u001B[39m\u001B[38;5;124m\"\u001B[39m)\u001B[38;5;241m.\u001B[39mdrop_duplicates(\n\u001B[1;32m    210\u001B[0m     subset\u001B[38;5;241m=\u001B[39m[\u001B[38;5;124m\"\u001B[39m\u001B[38;5;124mperson_id\u001B[39m\u001B[38;5;124m\"\u001B[39m]\n\u001B[1;32m    211\u001B[0m )\n\u001B[1;32m    213\u001B[0m \u001B[38;5;66;03m# Определим таблицы\u001B[39;00m\n\u001B[0;32m--> 214\u001B[0m dim_persons \u001B[38;5;241m=\u001B[39m Table(\n\u001B[1;32m    215\u001B[0m     \u001B[38;5;124m\"\u001B[39m\u001B[38;5;124mdim_persons\u001B[39m\u001B[38;5;124m\"\u001B[39m,\n\u001B[1;32m    216\u001B[0m     metadata,\n\u001B[1;32m    217\u001B[0m     Column(\u001B[38;5;124m\"\u001B[39m\u001B[38;5;124mperson_id\u001B[39m\u001B[38;5;124m\"\u001B[39m, Integer, primary_key\u001B[38;5;241m=\u001B[39m\u001B[38;5;28;01mTrue\u001B[39;00m),\n\u001B[1;32m    218\u001B[0m     Column(\u001B[38;5;124m\"\u001B[39m\u001B[38;5;124mname\u001B[39m\u001B[38;5;124m\"\u001B[39m, String),\n\u001B[1;32m    219\u001B[0m     Column(\u001B[38;5;124m\"\u001B[39m\u001B[38;5;124mgender\u001B[39m\u001B[38;5;124m\"\u001B[39m, Integer),\n\u001B[1;32m    220\u001B[0m )\n\u001B[1;32m    222\u001B[0m link_cast \u001B[38;5;241m=\u001B[39m Table(\n\u001B[1;32m    223\u001B[0m     \u001B[38;5;124m\"\u001B[39m\u001B[38;5;124mlink_cast\u001B[39m\u001B[38;5;124m\"\u001B[39m,\n\u001B[1;32m    224\u001B[0m     metadata,\n\u001B[0;32m   (...)\u001B[0m\n\u001B[1;32m    231\u001B[0m     Column(\u001B[38;5;124m\"\u001B[39m\u001B[38;5;124morder\u001B[39m\u001B[38;5;124m\"\u001B[39m, Integer),\n\u001B[1;32m    232\u001B[0m )\n\u001B[1;32m    234\u001B[0m link_crew \u001B[38;5;241m=\u001B[39m Table(\n\u001B[1;32m    235\u001B[0m     \u001B[38;5;124m\"\u001B[39m\u001B[38;5;124mlink_crew\u001B[39m\u001B[38;5;124m\"\u001B[39m,\n\u001B[1;32m    236\u001B[0m     metadata,\n\u001B[0;32m   (...)\u001B[0m\n\u001B[1;32m    242\u001B[0m     Column(\u001B[38;5;124m\"\u001B[39m\u001B[38;5;124mcredit_id\u001B[39m\u001B[38;5;124m\"\u001B[39m, String),\n\u001B[1;32m    243\u001B[0m )\n",
      "File \u001B[0;32m<string>:2\u001B[0m, in \u001B[0;36m__new__\u001B[0;34m(cls, *args, **kw)\u001B[0m\n",
      "File \u001B[0;32m/opt/anaconda3/lib/python3.12/site-packages/sqlalchemy/util/deprecations.py:281\u001B[0m, in \u001B[0;36mdeprecated_params.<locals>.decorate.<locals>.warned\u001B[0;34m(fn, *args, **kwargs)\u001B[0m\n\u001B[1;32m    274\u001B[0m     \u001B[38;5;28;01mif\u001B[39;00m m \u001B[38;5;129;01min\u001B[39;00m kwargs:\n\u001B[1;32m    275\u001B[0m         _warn_with_version(\n\u001B[1;32m    276\u001B[0m             messages[m],\n\u001B[1;32m    277\u001B[0m             versions[m],\n\u001B[1;32m    278\u001B[0m             version_warnings[m],\n\u001B[1;32m    279\u001B[0m             stacklevel\u001B[38;5;241m=\u001B[39m\u001B[38;5;241m3\u001B[39m,\n\u001B[1;32m    280\u001B[0m         )\n\u001B[0;32m--> 281\u001B[0m \u001B[38;5;28;01mreturn\u001B[39;00m fn(\u001B[38;5;241m*\u001B[39margs, \u001B[38;5;241m*\u001B[39m\u001B[38;5;241m*\u001B[39mkwargs)\n",
      "File \u001B[0;32m/opt/anaconda3/lib/python3.12/site-packages/sqlalchemy/sql/schema.py:431\u001B[0m, in \u001B[0;36mTable.__new__\u001B[0;34m(cls, *args, **kw)\u001B[0m\n\u001B[1;32m    424\u001B[0m \u001B[38;5;129m@util\u001B[39m\u001B[38;5;241m.\u001B[39mdeprecated_params(\n\u001B[1;32m    425\u001B[0m     mustexist\u001B[38;5;241m=\u001B[39m(\n\u001B[1;32m    426\u001B[0m         \u001B[38;5;124m\"\u001B[39m\u001B[38;5;124m1.4\u001B[39m\u001B[38;5;124m\"\u001B[39m,\n\u001B[0;32m   (...)\u001B[0m\n\u001B[1;32m    429\u001B[0m )\n\u001B[1;32m    430\u001B[0m \u001B[38;5;28;01mdef\u001B[39;00m \u001B[38;5;21m__new__\u001B[39m(\u001B[38;5;28mcls\u001B[39m, \u001B[38;5;241m*\u001B[39margs: Any, \u001B[38;5;241m*\u001B[39m\u001B[38;5;241m*\u001B[39mkw: Any) \u001B[38;5;241m-\u001B[39m\u001B[38;5;241m>\u001B[39m Any:\n\u001B[0;32m--> 431\u001B[0m     \u001B[38;5;28;01mreturn\u001B[39;00m \u001B[38;5;28mcls\u001B[39m\u001B[38;5;241m.\u001B[39m_new(\u001B[38;5;241m*\u001B[39margs, \u001B[38;5;241m*\u001B[39m\u001B[38;5;241m*\u001B[39mkw)\n",
      "File \u001B[0;32m/opt/anaconda3/lib/python3.12/site-packages/sqlalchemy/sql/schema.py:463\u001B[0m, in \u001B[0;36mTable._new\u001B[0;34m(cls, *args, **kw)\u001B[0m\n\u001B[1;32m    461\u001B[0m \u001B[38;5;28;01mif\u001B[39;00m key \u001B[38;5;129;01min\u001B[39;00m metadata\u001B[38;5;241m.\u001B[39mtables:\n\u001B[1;32m    462\u001B[0m     \u001B[38;5;28;01mif\u001B[39;00m \u001B[38;5;129;01mnot\u001B[39;00m keep_existing \u001B[38;5;129;01mand\u001B[39;00m \u001B[38;5;129;01mnot\u001B[39;00m extend_existing \u001B[38;5;129;01mand\u001B[39;00m \u001B[38;5;28mbool\u001B[39m(args):\n\u001B[0;32m--> 463\u001B[0m         \u001B[38;5;28;01mraise\u001B[39;00m exc\u001B[38;5;241m.\u001B[39mInvalidRequestError(\n\u001B[1;32m    464\u001B[0m             \u001B[38;5;124mf\u001B[39m\u001B[38;5;124m\"\u001B[39m\u001B[38;5;124mTable \u001B[39m\u001B[38;5;124m'\u001B[39m\u001B[38;5;132;01m{\u001B[39;00mkey\u001B[38;5;132;01m}\u001B[39;00m\u001B[38;5;124m'\u001B[39m\u001B[38;5;124m is already defined for this MetaData \u001B[39m\u001B[38;5;124m\"\u001B[39m\n\u001B[1;32m    465\u001B[0m             \u001B[38;5;124m\"\u001B[39m\u001B[38;5;124minstance.  Specify \u001B[39m\u001B[38;5;124m'\u001B[39m\u001B[38;5;124mextend_existing=True\u001B[39m\u001B[38;5;124m'\u001B[39m\u001B[38;5;124m \u001B[39m\u001B[38;5;124m\"\u001B[39m\n\u001B[1;32m    466\u001B[0m             \u001B[38;5;124m\"\u001B[39m\u001B[38;5;124mto redefine \u001B[39m\u001B[38;5;124m\"\u001B[39m\n\u001B[1;32m    467\u001B[0m             \u001B[38;5;124m\"\u001B[39m\u001B[38;5;124moptions and columns on an \u001B[39m\u001B[38;5;124m\"\u001B[39m\n\u001B[1;32m    468\u001B[0m             \u001B[38;5;124m\"\u001B[39m\u001B[38;5;124mexisting Table object.\u001B[39m\u001B[38;5;124m\"\u001B[39m\n\u001B[1;32m    469\u001B[0m         )\n\u001B[1;32m    470\u001B[0m     table \u001B[38;5;241m=\u001B[39m metadata\u001B[38;5;241m.\u001B[39mtables[key]\n\u001B[1;32m    471\u001B[0m     \u001B[38;5;28;01mif\u001B[39;00m extend_existing:\n",
      "\u001B[0;31mInvalidRequestError\u001B[0m: Table 'dim_persons' is already defined for this MetaData instance.  Specify 'extend_existing=True' to redefine options and columns on an existing Table object."
     ]
    }
   ],
   "execution_count": 6
  }
 ],
 "metadata": {
  "kernelspec": {
   "display_name": ".venv",
   "language": "python",
   "name": "python3"
  },
  "language_info": {
   "codemirror_mode": {
    "name": "ipython",
    "version": 3
   },
   "file_extension": ".py",
   "mimetype": "text/x-python",
   "name": "python",
   "nbconvert_exporter": "python",
   "pygments_lexer": "ipython3",
   "version": "3.13.0"
  }
 },
 "nbformat": 4,
 "nbformat_minor": 2
}
