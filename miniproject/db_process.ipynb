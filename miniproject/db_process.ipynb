{
 "cells": [
  {
   "cell_type": "code",
   "metadata": {
    "ExecuteTime": {
     "end_time": "2025-04-25T12:00:35.143330Z",
     "start_time": "2025-04-25T12:00:35.116818Z"
    }
   },
   "source": "import pandas as pd",
   "outputs": [],
   "execution_count": 37
  },
  {
   "metadata": {
    "ExecuteTime": {
     "end_time": "2025-04-25T12:19:59.347895Z",
     "start_time": "2025-04-25T12:19:58.800944Z"
    }
   },
   "cell_type": "code",
   "source": "df = pd.read_csv(\"data/tmdb_5000_credits.csv\")",
   "outputs": [],
   "execution_count": 46
  }
 ],
 "metadata": {
  "kernelspec": {
   "display_name": ".venv",
   "language": "python",
   "name": "python3"
  },
  "language_info": {
   "codemirror_mode": {
    "name": "ipython",
    "version": 3
   },
   "file_extension": ".py",
   "mimetype": "text/x-python",
   "name": "python",
   "nbconvert_exporter": "python",
   "pygments_lexer": "ipython3",
   "version": "3.13.0"
  }
 },
 "nbformat": 4,
 "nbformat_minor": 2
}
